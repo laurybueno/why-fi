{
 "cells": [
  {
   "cell_type": "code",
   "execution_count": null,
   "metadata": {},
   "outputs": [],
   "source": [
    "from scapy.all import *\n",
    "from hashlib import md5\n",
    "from parse_rssi import parse_rssi"
   ]
  },
  {
   "cell_type": "code",
   "execution_count": null,
   "metadata": {},
   "outputs": [],
   "source": [
    "# WIP: Try to get OS info from packet signatures\n",
    "# load_module('p0f')\n",
    "# with PcapReader('rasp-20190908-01.cap') as pcap_reader:\n",
    "#   for pkt in pcap_reader:\n",
    "#     try:\n",
    "#         p0f(pkt.payload)\n",
    "#     except:\n",
    "#         pass"
   ]
  },
  {
   "cell_type": "markdown",
   "metadata": {},
   "source": [
    "## Probe requests are management frames of type 0x00 with subtype 0x04"
   ]
  },
  {
   "cell_type": "code",
   "execution_count": null,
   "metadata": {},
   "outputs": [],
   "source": [
    "pcap_reader = PcapReader('captured_packets/rasp-20190908-01.cap')\n",
    "packets = []\n",
    "for pkt in pcap_reader:\n",
    "    try:\n",
    "        if (pkt.type == 0 and pkt.subtype == 0x04):\n",
    "            packets.append(pkt)\n",
    "    except:\n",
    "        pass"
   ]
  },
  {
   "cell_type": "markdown",
   "metadata": {},
   "source": [
    "## Find the MAC address from each packet and print it's associated RSSI (signal strength)"
   ]
  },
  {
   "cell_type": "code",
   "execution_count": null,
   "metadata": {},
   "outputs": [],
   "source": [
    "near = [((pkt.addr2), parse_rssi(pkt)) for pkt in packets]"
   ]
  },
  {
   "cell_type": "markdown",
   "metadata": {},
   "source": [
    "Anonimize MAC addresses using MD5 and print raw results"
   ]
  },
  {
   "cell_type": "code",
   "execution_count": null,
   "metadata": {},
   "outputs": [],
   "source": [
    "[(md5(n[0].encode('utf-8')).hexdigest(), n[1]) for n in near]"
   ]
  }
 ],
 "metadata": {
  "kernelspec": {
   "display_name": "Python 3",
   "language": "python",
   "name": "python3"
  },
  "language_info": {
   "codemirror_mode": {
    "name": "ipython",
    "version": 3
   },
   "file_extension": ".py",
   "mimetype": "text/x-python",
   "name": "python",
   "nbconvert_exporter": "python",
   "pygments_lexer": "ipython3",
   "version": "3.8.6"
  }
 },
 "nbformat": 4,
 "nbformat_minor": 4
}
